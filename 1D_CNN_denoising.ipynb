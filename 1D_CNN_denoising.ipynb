{
 "cells": [
  {
   "cell_type": "code",
   "execution_count": 1,
   "metadata": {},
   "outputs": [],
   "source": [
    "import numpy as np\n",
    "import nibabel as nib\n",
    "import os\n",
    "import csv\n",
    "import matplotlib.pyplot as plt\n",
    "import tensorflow as tf\n",
    "import random\n",
    "from tensorflow.keras.layers import Conv1D, BatchNormalization, Activation, Subtract\n",
    "from tensorflow.keras.models import *\n",
    "from tensorflow.keras.layers import Input\n",
    "#from patchify import patchify, unpatchify\n",
    "from sklearn.model_selection import train_test_split\n",
    "from numpy.random import rand\n",
    "from random import seed\n",
    "from datetime import datetime\n",
    "now = datetime.utcnow().strftime(\"%Y%m%d%H%M%S\")\n",
    "root_logdir = \"tf_logs\"\n",
    "logdir = \"{}/run-{}/\".format(root_logdir, now)"
   ]
  },
  {
   "cell_type": "code",
   "execution_count": 2,
   "metadata": {},
   "outputs": [],
   "source": [
    "def getModel(sigLength):\n",
    "    input_layer = Input(shape=(sigLength, 1))\n",
    "\n",
    "    # Layer 1 - Convolutional Layer + ReLU activation\n",
    "    x = Conv1D(filters=16, kernel_size=16, kernel_initializer='Orthogonal',\n",
    "               padding='same', name=f'Conv1')(input_layer)\n",
    "    x = Activation('relu', name=f'ReLU1')(x)\n",
    "    max_pool_1d = tf.keras.layers.MaxPooling1D(pool_size=2, strides=2, padding='valid')\n",
    "    pool1 = max_pool_1d(x)\n",
    "    x = Conv1D(filters=32, kernel_size=8, padding='same', name=f'Conv2')(pool1)\n",
    "    x = Activation('relu', name=f'ReLU2')(x)\n",
    "    pool2 = max_pool_1d(x)\n",
    "    pool2_flat = tf.keras.layers.Flatten()(pool2)\n",
    "    logits = tf.keras.layers.Dense(units=sigLength, activation='relu')(pool2_flat)\n",
    "    return Model(inputs=input_layer, outputs=logits)\n"
   ]
  },
  {
   "cell_type": "code",
   "execution_count": 3,
   "metadata": {},
   "outputs": [
    {
     "name": "stdout",
     "output_type": "stream",
     "text": [
      "(76766, 184)\n"
     ]
    }
   ],
   "source": [
    "sigLength = 184     # length of DWI signal\n",
    "tmp = nib.load('nodif_brain_mask.nii.gz')\n",
    "msk_img = tmp.get_fdata()\n",
    "sz = msk_img.shape\n",
    "numVol = np.int(sum(msk_img.ravel()))\n",
    "msk = np.reshape(msk_img, sz[0]*sz[1]*sz[2])\n",
    "# the normal noised data\n",
    "tmp = nib.load('dwi_gt184.nii.gz')\n",
    "normal_img = tmp.get_fdata()\n",
    "sz = normal_img.shape\n",
    "imgRaw = np.reshape(normal_img, (sz[0]*sz[1]*sz[2], sz[3]))\n",
    "sigRaw = np.delete(imgRaw, np.where(msk != 1), axis=0)\n",
    "learning_rate = 0.001\n",
    "num_epochs = 2000\n",
    "batch_size = 6000\n",
    "# High-noise data\n",
    "tmp = nib.load('dwi_gt184snr30.nii.gz')\n",
    "imgNoised = np.reshape(tmp.get_fdata(), (sz[0]*sz[1]*sz[2], sz[3]))\n",
    "sigNoised = np.delete(imgNoised, np.where(msk != 1), axis=0)\n",
    "print(sigNoised.shape)"
   ]
  },
  {
   "cell_type": "code",
   "execution_count": 4,
   "metadata": {},
   "outputs": [
    {
     "name": "stdout",
     "output_type": "stream",
     "text": [
      "Model: \"model\"\n",
      "__________________________________________________________________________________________________\n",
      "Layer (type)                    Output Shape         Param #     Connected to                     \n",
      "==================================================================================================\n",
      "input_1 (InputLayer)            [(None, 184, 1)]     0                                            \n",
      "__________________________________________________________________________________________________\n",
      "Conv1 (Conv1D)                  (None, 184, 16)      272         input_1[0][0]                    \n",
      "__________________________________________________________________________________________________\n",
      "ReLU1 (Activation)              (None, 184, 16)      0           Conv1[0][0]                      \n",
      "__________________________________________________________________________________________________\n",
      "max_pooling1d (MaxPooling1D)    multiple             0           ReLU1[0][0]                      \n",
      "                                                                 ReLU2[0][0]                      \n",
      "__________________________________________________________________________________________________\n",
      "Conv2 (Conv1D)                  (None, 92, 32)       4128        max_pooling1d[0][0]              \n",
      "__________________________________________________________________________________________________\n",
      "ReLU2 (Activation)              (None, 92, 32)       0           Conv2[0][0]                      \n",
      "__________________________________________________________________________________________________\n",
      "flatten (Flatten)               (None, 1472)         0           max_pooling1d[1][0]              \n",
      "__________________________________________________________________________________________________\n",
      "dense (Dense)                   (None, 184)          271032      flatten[0][0]                    \n",
      "==================================================================================================\n",
      "Total params: 275,432\n",
      "Trainable params: 275,432\n",
      "Non-trainable params: 0\n",
      "__________________________________________________________________________________________________\n"
     ]
    }
   ],
   "source": [
    "model = getModel(sigLength)\n",
    "model.compile(optimizer='adam', loss='mean_squared_error', metrics=['accuracy'])\n",
    "model.summary()"
   ]
  },
  {
   "cell_type": "code",
   "execution_count": null,
   "metadata": {},
   "outputs": [
    {
     "name": "stdout",
     "output_type": "stream",
     "text": [
      "(57574, 184)\n",
      "Epoch 1/2000\n"
     ]
    }
   ],
   "source": [
    "X_train, X_test, y_train, y_test = train_test_split(sigNoised, sigRaw)\n",
    "print(X_train.shape)\n",
    "model.fit(X_train, y_train, batch_size=batch_size, epochs=num_epochs, verbose=1, validation_data=(X_test, y_test))\n",
    "model.save('1D_CNN_denoise_model')"
   ]
  },
  {
   "cell_type": "code",
   "execution_count": null,
   "metadata": {},
   "outputs": [],
   "source": [
    "from keras.models import load_model\n",
    "my_model = load_model('1D_CNN_denoise_model', compile=False)\n",
    "predicted_img = my_model.predict(imgNoised)\n",
    "print(predicted_img.shape)\n",
    "x_img = np.float32( np.reshape(predicted_img, (sz[0],sz[1],sz[2],sz[3])) )\n",
    "img_denoised = x_img\n",
    "print(img_denoised.shape)\n",
    "for ii in range(0,sigLength):\n",
    "    img_denoised[:,:,:,ii] = img_denoised[:,:,:,ii] * msk_img\n",
    "# save the denoised result to a nifti\n",
    "x1 = nib.Nifti1Image(img_denoised, tmp.affine, tmp.header)\n",
    "nib.save(x1,'Denoised.nii.gz')"
   ]
  },
  {
   "cell_type": "code",
   "execution_count": null,
   "metadata": {},
   "outputs": [],
   "source": []
  }
 ],
 "metadata": {
  "kernelspec": {
   "display_name": "tf2",
   "language": "python",
   "name": "tf2"
  },
  "language_info": {
   "codemirror_mode": {
    "name": "ipython",
    "version": 3
   },
   "file_extension": ".py",
   "mimetype": "text/x-python",
   "name": "python",
   "nbconvert_exporter": "python",
   "pygments_lexer": "ipython3",
   "version": "3.7.12"
  }
 },
 "nbformat": 4,
 "nbformat_minor": 4
}
